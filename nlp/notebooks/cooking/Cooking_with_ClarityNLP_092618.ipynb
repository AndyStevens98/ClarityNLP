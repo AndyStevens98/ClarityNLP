{
 "cells": [
  {
   "cell_type": "markdown",
   "metadata": {},
   "source": [
    "## Cooking with ClarityNLP - Session #3"
   ]
  },
  {
   "cell_type": "markdown",
   "metadata": {},
   "source": [
    "The goal of this series is to introduce you to writing basic queries using NLPQL. Today we will also be covering an introduction to iterative data exploration and feature engineering for a given cohort using unsupervised learning techniques. For details on installing and using ClarityNLP, please see our [documentation](https://claritynlp.readthedocs.io/en/latest/index.html).  We welcome questions during this presentation, as well as via Slack or on [GitHub](https://github.com/ClarityNLP/ClarityNLP/issues)."
   ]
  },
  {
   "cell_type": "code",
   "execution_count": 1,
   "metadata": {},
   "outputs": [
    {
     "name": "stdout",
     "output_type": "stream",
     "text": [
      "ClarityNLP notebook helpers loaded successfully!\n"
     ]
    }
   ],
   "source": [
    "# if running locally, make sure docker swarm up and running first\n",
    "# https://claritynlp.readthedocs.io/en/latest/setup/local-docker.html#running-locally\n",
    "\n",
    "# need to be on VPN to hit AWS instance\n",
    "\n",
    "# !pip3 install --user `package_name` #if you need to install a dependency rather than import it\n",
    "%matplotlib inline\n",
    "import pandas as pd\n",
    "pd.set_option('display.width',100000)\n",
    "pd.set_option('max_colwidth',4000)\n",
    "import requests\n",
    "from collections import OrderedDict\n",
    "import matplotlib.pyplot as plt\n",
    "import claritynlp_notebook_helpers as claritynlp"
   ]
  },
  {
   "cell_type": "markdown",
   "metadata": {},
   "source": [
    "### Tentative outline\n",
    "- Review ingestion process\n",
    "- Briefly discuss a phenotype and/or a set membership problem that we hope to use unstructured text for to both mine the data, as well as to potentially expand our set of inclusion criteria, and/or identify clusters within our -identified set.\n",
    "- Construct a foundational NLPQL query to extract a first set of notes.\n",
    "- Show how to view commonly occuring n-grams on these notes.\n",
    "- Show how to call topic modeling algorithm on these notes; walk through return options and how to use them.\n",
    "- Show how topic vector terms can be fed back into the pipeline to expand the termset.\n",
    "- Show how topic assignment can be used to cluster patients."
   ]
  },
  {
   "cell_type": "markdown",
   "metadata": {},
   "source": [
    "### 1. Review of data ingestion\n",
    "\n",
    "If needed, re-use content from last session re: ingestion of data; running NLPQL; etc."
   ]
  },
  {
   "cell_type": "code",
   "execution_count": null,
   "metadata": {},
   "outputs": [],
   "source": []
  },
  {
   "cell_type": "markdown",
   "metadata": {},
   "source": [
    "### 2. Select a few concepts that we would like to explore and use for phenotype development\n",
    "\n",
    "In this example, we explore how we can leverage unstructured clinical notes and ClarityNLP to explore a clinically relevant set membership problem for the purpose of feature engineering and/or patient inclusion/exclusion from a cohort of interest. This can be thought of as a step away from rule-based/heuristic patient identification, and toward computational phenotype development. The techniques reviewed here can be particularly useful in situations where the set/term in question cannot be easily derived from structured data alone, and/or when the set/term in question is difficult to quantify or is unlikely to explicitly appear in structured data. Examples include but are by no means limited to: {`poor social support`; `homelessness`; `substance abuse`; `socioeconomic status`; `financial distress`; `domestic abuse`; `insomnia`; `poor medication compliance`; etc.}.\n",
    "\n",
    "These topics represent important **socioeconomic** and **behavioral determinants of health** and may also effect eligibility for participation in clinical trials, but are difficult for clinical researchers to detect without manual chart review and/or other types of resource-intensive interventions. \n",
    "\n",
    "In the sections that follow, we'll walk through ways in which NLP techniques can help address this problem. It is important to note that these steps represent an **iterative, human-in-the-loop process**, rather than a one-step solution. \n",
    "\n",
    "We can begin by aggregating our existing clinical and contextual knowledge of the topic/concept, and using this knowledge to develop a baseline NLPQL query. It is not necessarily important at this stage that our list of terms and/or constraints be exhaustive, as our initial goal is to explore the possible universe of patients. we can return to this step in an iterative fashion, and impose more specific criteria as we go. \n",
    "\n",
    "For the purpose of today's discussion, we'll consider three different set membership problems: (1) homelessness; (2) insomnia/trouble sleeping; (3) poor medication compliance. For each of these three set membership questions, we're hoping to understand whether a given patient might currently be experiencing the condition, or has experienced the condition in the past (to the extent that their historical data is present in the system).\n"
   ]
  },
  {
   "cell_type": "markdown",
   "metadata": {},
   "source": [
    "We can start by brainstorming a list of terms that we might expect to appear in instances where patients have experienced or are currently experiencing each of our target conditions. Note that we're intentionally trying to cast a wide net at this early stage; we can also use termset expansion and/or lemmatization to handle synonyms and/or similar words represented as different parts of speech. \n",
    "\n",
    "#### 2.1: Homelessness \n",
    "\n",
    "- homeless\n",
    "- shelter\n",
    "- exposure\n",
    "- frostbite\n",
    "- dehydration\n",
    "- lack of access to care\n",
    "- eviction\n",
    "- evicted\n",
    "\n",
    "#### 2.2: Insomnia/Trouble Sleeping \n",
    "\n",
    "- insomnia\n",
    "- poor sleep\n",
    "- snoring\n",
    "- sleep apnea\n",
    "- sleeping pills\n",
    "- tired\n",
    "- drowsy \n",
    "- lethargic\n",
    "- restless leg syndrome\n",
    "- narcolepsy\n",
    "- side effects\n",
    "- melatonin\n",
    "- newborn\n",
    "- daytime fatigue\n",
    "- low energy\n",
    "- sleepy\n",
    "- depression\n",
    "\n",
    "\n",
    "#### 2.3 Poor Medication Compliance\n",
    "- poor compliance\n",
    "- not taking medication\n",
    "- overdose\n",
    "- forgot to take medicine\n",
    "- poor memory\n",
    "- side effects \n",
    "- elderly\n",
    "- lives alone\n",
    "- readmitted\n",
    "- rehospitalization \n",
    "- non-adherence\n",
    "- can't afford medication\n",
    "- lack of access to care\n",
    "- substance abuse\n",
    "- limited mobility\n",
    "- cognitive impairment\n",
    "- poor communication\n",
    "- non-English speaking\n",
    "- too many medications\n",
    "- confusion about dose instructions"
   ]
  },
  {
   "cell_type": "markdown",
   "metadata": {},
   "source": [
    "### 3. Develop and run a foundational NLPQL query to capture instances of patients experiencing homelessness\n",
    "\n",
    "We can use the list we developed above to develop a foundational NLPQL query. Running this query will tell us which patients meet our initial criteria, and we can then perform topic modeling on the notes associated with these patients to help discover additional relevant terms that we can use to either expand or refine our inclusion criteria.\n",
    "\n",
    "To do this, we can use the terms from our list to form a ClarityNLP termset. In this way, we're asking ClarityNLP to return the set of notes where at least one of these terms appears (the relationship between the terms is a disjunctive Boolean OR). "
   ]
  },
  {
   "cell_type": "markdown",
   "metadata": {},
   "source": [
    "#### 3.1: Homelessness NLPQL"
   ]
  },
  {
   "cell_type": "code",
   "execution_count": null,
   "metadata": {},
   "outputs": [],
   "source": [
    "nlpql_homelessness_initial_query = '''\n",
    "\n",
    "// Phenotype library name\n",
    "phenotype \"Cooking with Clarity Homelessness Initial Set\" version \"1\";\n",
    "\n",
    "/* Phenotype library description */\n",
    "description \"Sample NLPQL to find notes that may be associated with patients experiencing homelessness; for use in topic modeling.\";\n",
    "\n",
    "// # Structured Data Model #\n",
    "datamodel OMOP version \"5.3\";\n",
    "\n",
    "// # Referenced libraries #\n",
    "// The ClarityCore library provides common functions for simplifying NLP pipeline creation\n",
    "include ClarityCore version \"1.0\" called Clarity;\n",
    "include OHDSIHelpers version \"1.0\" called OHDSI;\n",
    "\n",
    "// ## Code Systems ##\n",
    "codesystem OMOP: \"http://omop.org\"; // OMOP vocabulary https://github.com/OHDSI/Vocabulary-v5.0;\n",
    "\n",
    "\n",
    "// #Manual Term sets#\n",
    "// simple example-- termset \"Vegetables\":[\"brocolli\",\"carrots\",\"cauliflower\"]\n",
    "// can add expansion of structured concepts from terminologies as well with OMOPHelpers\n",
    "\n",
    "documentset PotentialHomelessnessNotes:\n",
    "    Clarity.createReportTagList([\"Physician\",\"Nurse\",\"Note\",\"Discharge Summary\"]);\n",
    "\n",
    "termset PossibleHomelessness: [\n",
    "\"homeless\",\n",
    "\"shelter\",\n",
    "\"exposure\",\n",
    "\"frostbite\",\n",
    "\"dehydration\",\n",
    "\"malnutrition\",\n",
    "\"lack of access to care\",\n",
    "\"no medical records\",\n",
    "\"evicted\",\n",
    "\"eviction\"];\n",
    "\n",
    "define final isPotentiallyHomeless:\n",
    "  Clarity.ProviderAssertion({\n",
    "    termset: [PossibleHomelessness],\n",
    "    documentset: [PotentialHomelessnessNotes]\n",
    "  });  \n",
    "'''\n",
    "\n",
    "run_result_homeless, main_csv_homeless, intermediate_csv_homeless, luigi_homeless = claritynlp.run_nlpql(nlpql_homelessness_initial_query)"
   ]
  },
  {
   "cell_type": "markdown",
   "metadata": {},
   "source": [
    "#### 3.2: Insomnia/Trouble Sleeping NLPQL"
   ]
  },
  {
   "cell_type": "code",
   "execution_count": null,
   "metadata": {},
   "outputs": [],
   "source": [
    "nlpql_insomnia_initial_query = '''\n",
    "\n",
    "// Phenotype library name\n",
    "phenotype \"Cooking with Clarity Insomnia Initial Set\" version \"1\";\n",
    "\n",
    "/* Phenotype library description */\n",
    "description \"Sample NLPQL to find notes that may be associated with patients experiencing insomnia; for use in topic modeling.\";\n",
    "\n",
    "// # Structured Data Model #\n",
    "datamodel OMOP version \"5.3\";\n",
    "\n",
    "// # Referenced libraries #\n",
    "// The ClarityCore library provides common functions for simplifying NLP pipeline creation\n",
    "include ClarityCore version \"1.0\" called Clarity;\n",
    "include OHDSIHelpers version \"1.0\" called OHDSI;\n",
    "\n",
    "// ## Code Systems ##\n",
    "codesystem OMOP: \"http://omop.org\"; // OMOP vocabulary https://github.com/OHDSI/Vocabulary-v5.0;\n",
    "\n",
    "\n",
    "// #Manual Term sets#\n",
    "// simple example-- termset \"Vegetables\":[\"brocolli\",\"carrots\",\"cauliflower\"]\n",
    "// can add expansion of structured concepts from terminologies as well with OMOPHelpers\n",
    "\n",
    "documentset PotentialInsomniaNotes:\n",
    "    Clarity.createReportTagList([\"Physician\",\"Nurse\",\"Note\",\"Discharge Summary\"]);\n",
    "    \n",
    "termset PossibleInsomnia: [\n",
    "\"insomnia\",\n",
    "\"poor sleep\",\n",
    "\"sleep apnea\",\n",
    "\"tired\",\n",
    "\"lethargic\",\n",
    "\"restless leg syndrome\",\n",
    "\"side effects\",\n",
    "\"pain\",\n",
    "\"newborn\",\n",
    "\"melatonin\",\n",
    "\"infant\",\n",
    "\"daytime fatigue\",\n",
    "\"low energy\",\n",
    "\"depression\"];\n",
    "\n",
    "define final isPotentiallyInsomnia:\n",
    "  Clarity.ProviderAssertion({\n",
    "    termset: [PossibleInsomnia],\n",
    "    documentset: [PotentialInsomniaNotes]\n",
    "});\n",
    "  \n",
    "'''\n",
    "\n",
    "run_result_insomnia, main_csv_insomnia, intermediate_csv_insomnia, luigi_insomnia = claritynlp.run_nlpql(nlpql_insomnia_initial_query)"
   ]
  },
  {
   "cell_type": "markdown",
   "metadata": {},
   "source": [
    "#### 3.3 Poor Medication Compliance NLPQL"
   ]
  },
  {
   "cell_type": "code",
   "execution_count": null,
   "metadata": {},
   "outputs": [],
   "source": [
    "nlpql_poor_compliance_initial_query = '''\n",
    "\n",
    "// Phenotype library name\n",
    "phenotype \"Cooking with Clarity Poor Medication Compliance Initial Set\" version \"1\";\n",
    "\n",
    "/* Phenotype library description */\n",
    "description \"Sample NLPQL to find notes that may be associated with patients experiencing/exhibiting poor medication compliance; for use in topic modeling.\";\n",
    "\n",
    "// # Structured Data Model #\n",
    "datamodel OMOP version \"5.3\";\n",
    "\n",
    "// # Referenced libraries #\n",
    "// The ClarityCore library provides common functions for simplifying NLP pipeline creation\n",
    "include ClarityCore version \"1.0\" called Clarity;\n",
    "include OHDSIHelpers version \"1.0\" called OHDSI;\n",
    "\n",
    "// ## Code Systems ##\n",
    "codesystem OMOP: \"http://omop.org\"; // OMOP vocabulary https://github.com/OHDSI/Vocabulary-v5.0;\n",
    "\n",
    "\n",
    "// #Manual Term sets#\n",
    "// simple example-- termset \"Vegetables\":[\"brocolli\",\"carrots\",\"cauliflower\"]\n",
    "// can add expansion of structured concepts from terminologies as well with OMOPHelpers\n",
    "\n",
    "documentset PotentialPoorComplianceNotes:\n",
    "    Clarity.createReportTagList([\"Physician\",\"Nurse\",\"Note\",\"Discharge Summary\"]);\n",
    "    \n",
    "termset PossiblePoorCompliance: [\n",
    "\"insomnia\",\n",
    "\"poor sleep\",\n",
    "\"sleep apnea\",\n",
    "\"tired\",\n",
    "\"lethargic\",\n",
    "\"restless leg syndrome\",\n",
    "\"side effects\",\n",
    "\"pain\",\n",
    "\"newborn\",\n",
    "\"melatonin\",\n",
    "\"infant\",\n",
    "\"daytime fatigue\",\n",
    "\"low energy\",\n",
    "\"depression\"];\n",
    "\n",
    "define final isPotentiallyPoorCompliance:\n",
    "  Clarity.ProviderAssertion({\n",
    "    termset: [PossiblePoorCompliance],\n",
    "    documentset: [PotentialPoorComplianceNotes]\n",
    "  });\n",
    "\n",
    "'''\n",
    "\n",
    "run_result_poor_compliance, main_csv_poor_compliance, intermediate_csv_poor_compliance, luigi_poor_compliance, = claritynlp.run_nlpql(nlpql_poor_compliance_initial_query)"
   ]
  },
  {
   "cell_type": "markdown",
   "metadata": {},
   "source": [
    "### 4. View commonly occuring n-grams on the subset of notes returned by our queries\n",
    "\n",
    "An **n-gram** is a contiguous sequence of *n* items (in this case, words, separated by whitespace). We can use **n-grams** to help us understand which words commonly appear together within the subset of notes that make up the sub-corpus associated with each of our conditions. \n",
    "\n",
    "We can define a helper function to let us visualize the distribution of the most commonly co-occuring terms:\n",
    "\n"
   ]
  },
  {
   "cell_type": "code",
   "execution_count": 4,
   "metadata": {},
   "outputs": [],
   "source": [
    "def view_n_gram_terms(df, keyword, min_apperances=2, n=3):\n",
    "    \n",
    "    term_sets = [x.split() for x in df['text']]\n",
    "    terms = [item for sublist in term_sets for item in sublist if item != keyword]\n",
    "    \n",
    "    terms_dict = OrderedDict(sorted(((x, terms.count(x)) for x in terms if terms.count(x) >= min_apperances),\n",
    "                                    key=lambda x: x[1]))\n",
    "\n",
    "    x = [k for k in terms_dict.keys()]\n",
    "    y = [v for v in terms_dict.values()]\n",
    "    \n",
    "    plt.figure(figsize=(20,10))\n",
    "    plt.barh(x,y)\n",
    "    plt.xticks(fontsize=15)\n",
    "    plt.yticks(fontsize=15)\n",
    "    plt.title(\"Frequency of co-occuring terms drawn from set of {}-grams associated with keyword: {}\".format(n, keyword), fontsize=15)\n",
    "    plt.show() "
   ]
  },
  {
   "cell_type": "markdown",
   "metadata": {},
   "source": [
    "#### 4.1 n-grams on notes of patients potentially experiencing homelessness"
   ]
  },
  {
   "cell_type": "code",
   "execution_count": null,
   "metadata": {},
   "outputs": [],
   "source": [
    "homelessness_ngrams_query = '''\n",
    "\n",
    " phenotype \"potential homelessness ngram\" version \"1\";\n",
    "\n",
    " include ClarityCore version \"1.0\" called Clarity;\n",
    "\n",
    " termset HomelessTerms:\n",
    "    [\"homeless\"];\n",
    "\n",
    "  define homelessnessNgram:\n",
    "    Clarity.ngram({\n",
    "      termset:[HomelessTerms], \n",
    "      \"n\": \"3\",\n",
    "      \"filter_nums\": true,\n",
    "      \"filter_stops\": true,\n",
    "      \"filter_punct\": true,\n",
    "      \"min_freq\": 2,\n",
    "      \"lemmas\": true,\n",
    "      \"limit_to_termset\": true\n",
    "      });\n",
    "      \n",
    "'''\n",
    "\n",
    "ngrams_result_homelessness, ngrams_main_csv_homeless, ngrams_intermediate_csv_homeless, ngrams_luigi_homeless = claritynlp.run_nlpql(homelessness_ngrams_query)"
   ]
  },
  {
   "cell_type": "code",
   "execution_count": null,
   "metadata": {},
   "outputs": [],
   "source": [
    "hl_ngrams_df = pd.read_csv(ngrams_result_homelessness['intermediate_results_csv'])\n",
    "view_n_gram_terms(hl_ngrams_df, \"homelessness\")  "
   ]
  },
  {
   "cell_type": "code",
   "execution_count": null,
   "metadata": {},
   "outputs": [],
   "source": [
    "# TODO: if/when queries get chained on back end, show that this second query runs on the set produced by the first query"
   ]
  },
  {
   "cell_type": "code",
   "execution_count": null,
   "metadata": {},
   "outputs": [],
   "source": [
    "insomnia_ngrams_query = '''\n",
    "\n",
    " phenotype \"potential insomnia ngram\" version \"1\";\n",
    "\n",
    " include ClarityCore version \"1.0\" called Clarity;\n",
    "\n",
    " termset InsomniaTerms:\n",
    "    [\"insomnia\"];\n",
    "\n",
    "  define insomniaNgram:\n",
    "    Clarity.ngram({\n",
    "      termset:[InsomniaTerms], \n",
    "      \"n\": \"3\",\n",
    "      \"filter_nums\": true,\n",
    "      \"filter_stops\": true,\n",
    "      \"filter_punct\": true,\n",
    "      \"min_freq\": 2,\n",
    "      \"lemmas\": true,\n",
    "      \"limit_to_termset\": true\n",
    "      });\n",
    "      \n",
    "'''\n",
    "\n",
    "ngrams_result_insomnia, ngrams_main_csv_insomnia, ngrams_intermediate_csv_insomnia, ngrams_luigi_insomnia = claritynlp.run_nlpql(insomnia_ngrams_query)"
   ]
  },
  {
   "cell_type": "code",
   "execution_count": null,
   "metadata": {},
   "outputs": [],
   "source": [
    "insomnia_ngrams_df = pd.read_csv(ngrams_result_insomnia['intermediate_results_csv'])\n",
    "view_n_gram_terms(insomnia_ngrams_df, \"insomnia\")  "
   ]
  },
  {
   "cell_type": "code",
   "execution_count": null,
   "metadata": {},
   "outputs": [],
   "source": [
    "poor_compliance_ngrams_query = '''\n",
    "\n",
    " phenotype \"potential poor medication compliance ngram\" version \"1\";\n",
    "\n",
    " include ClarityCore version \"1.0\" called Clarity;\n",
    "\n",
    " termset PoorComplianceTerms:\n",
    "    [\"compliance\"];\n",
    "\n",
    "  define poorComplianceNgram:\n",
    "    Clarity.ngram({\n",
    "      termset:[InsomniaTerms], \n",
    "      \"n\": \"3\",\n",
    "      \"filter_nums\": true,\n",
    "      \"filter_stops\": true,\n",
    "      \"filter_punct\": true,\n",
    "      \"min_freq\": 2,\n",
    "      \"lemmas\": true,\n",
    "      \"limit_to_termset\": true\n",
    "      });\n",
    "      \n",
    "'''\n",
    "\n",
    "ngrams_result_poor_compliance, ngrams_main_csv_poor_compliance, ngrams_intermediate_csv_poor_compliance, ngrams_luigi_poor_compliance = claritynlp.run_nlpql(poor_compliance_ngrams_query)"
   ]
  },
  {
   "cell_type": "code",
   "execution_count": null,
   "metadata": {},
   "outputs": [],
   "source": [
    "poor_comp_ngrams_df = pd.read_csv(ngrams_result_poor_compliance['intermediate_results_csv'])\n",
    "view_n_gram_terms(poor_comp_ngrams_df, \"compliance\")  "
   ]
  },
  {
   "cell_type": "code",
   "execution_count": null,
   "metadata": {},
   "outputs": [],
   "source": [
    "# TODO: Integrate topic modeling explanation and examples here; also do top docs by topic; clustering by topic labels "
   ]
  },
  {
   "cell_type": "markdown",
   "metadata": {},
   "source": [
    "#### Scratch content; will either work this in or remove.\n",
    "Used to explore usefulness of original set of terms by examining the distribution of terms among the 'truth values' dervied from extracted text"
   ]
  },
  {
   "cell_type": "code",
   "execution_count": null,
   "metadata": {},
   "outputs": [],
   "source": [
    "#inter_csv_df = pd.read_csv(intermediate_csv)\n",
    "#counts = inter_csv_df.groupby(['term']).count()['_id'].reset_index().sort_values(by=['_id'], ascending=False)"
   ]
  },
  {
   "cell_type": "code",
   "execution_count": null,
   "metadata": {},
   "outputs": [],
   "source": [
    "#counts.plot(kind='bar', x='term', y='_id')"
   ]
  },
  {
   "cell_type": "code",
   "execution_count": null,
   "metadata": {},
   "outputs": [],
   "source": []
  }
 ],
 "metadata": {
  "kernelspec": {
   "display_name": "Python 3",
   "language": "python",
   "name": "python3"
  },
  "language_info": {
   "codemirror_mode": {
    "name": "ipython",
    "version": 3
   },
   "file_extension": ".py",
   "mimetype": "text/x-python",
   "name": "python",
   "nbconvert_exporter": "python",
   "pygments_lexer": "ipython3",
   "version": "3.5.5"
  }
 },
 "nbformat": 4,
 "nbformat_minor": 2
}
