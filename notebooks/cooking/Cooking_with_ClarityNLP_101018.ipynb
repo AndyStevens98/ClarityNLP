{
 "cells": [
  {
   "cell_type": "markdown",
   "metadata": {},
   "source": [
    "## Cooking with ClarityNLP - Session #4"
   ]
  },
  {
   "cell_type": "markdown",
   "metadata": {},
   "source": [
    "In this session of Cooking with ClarityNLP, we'll introduce integrations with OMOP and OHDSI. The main purpose is to introduce working with structed and unstructured data in one. We'll show how you can enhance vocabulary in ClarityNLP by using the OMOP vocabulary, how you can build more complete phenotypes using both structured and unstructured data, and how to export ClarityNLP results back to your OMOP database."
   ]
  },
  {
   "cell_type": "code",
   "execution_count": 1,
   "metadata": {},
   "outputs": [
    {
     "name": "stdout",
     "output_type": "stream",
     "text": [
      "ClarityNLP notebook helpers loaded successfully!\n"
     ]
    }
   ],
   "source": [
    "# Import dependencies\n",
    "%matplotlib inline\n",
    "import pandas as pd\n",
    "pd.set_option('display.width',100000)\n",
    "pd.set_option('max_colwidth',4000)\n",
    "import matplotlib.pyplot as plt\n",
    "from matplotlib_venn import venn2\n",
    "\n",
    "import claritynlp_notebook_helpers as claritynlp"
   ]
  },
  {
   "cell_type": "markdown",
   "metadata": {},
   "source": [
    "### MIMIC\n",
    "In most of our Cooking sessions, we will use the MIMIC data. The MIMIC-III Critical Care Database is data set containing information about ICU patients who stayed at the Beth Israel Deaconess Hospital between 2001 and 2012. MIMIC-III has multiple types of clinical observational data, including text. It has been de-identified for research use. Unlike most public clinical data sets, unstructured text is available in the MIMIC-III database, making it suitable for our research"
   ]
  },
  {
   "cell_type": "markdown",
   "metadata": {},
   "source": [
    "## Introduction to OHDSI / OMOP"
   ]
  },
  {
   "cell_type": "code",
   "execution_count": null,
   "metadata": {},
   "outputs": [],
   "source": []
  },
  {
   "cell_type": "markdown",
   "metadata": {},
   "source": [
    "#### Quick note on Setup\n",
    "\n",
    "This tutorial assumes you have an [OHDSI WebAPI](https://github.com/OHDSI/WebAPI) up and running. We also use the [OHDSI Atlas](https://github.com/OHDSI/Atlas) tool for exploration. Visit [OHDSI.org](https://www.ohdsi.org/) to get up and going with OHDSI."
   ]
  },
  {
   "cell_type": "markdown",
   "metadata": {},
   "source": [
    "To setup OHDSI in ClarityNLP, your ClarityNLP instance needs access to your OHDSI WebAPI, set the `OHDSI_WEBAPI_URL` in your `.env` file. For example:                                                                                    \n",
    "\n",
    "```\n",
    "OHDSI_WEBAPI_URL=https://gt-apps.hdap.gatech.edu/ohdsi/WebAPI\n",
    "```\n"
   ]
  },
  {
   "cell_type": "markdown",
   "metadata": {},
   "source": [
    "### Use Case 1: Introduction to Synonyms in OHDSI"
   ]
  },
  {
   "cell_type": "markdown",
   "metadata": {},
   "source": [
    "In this section, we'll explore term expansion in ClarityNLP. There are a variety of ways to expand terms in ClarityNLP, which we have introduced in previous sessions, and is documented [here](https://claritynlp.readthedocs.io/en/latest/user_guide/nlpql/macros.html). In the following example, we look at conditions related to having a low platelet count."
   ]
  },
  {
   "cell_type": "code",
   "execution_count": 2,
   "metadata": {},
   "outputs": [
    {
     "name": "stdout",
     "output_type": "stream",
     "text": [
      "\n",
      "\n",
      "phenotype \"LowPlateletTerms\";\n",
      "\n",
      "termset BruiseTerms:[\n",
      "\"bruise\",\"bruised\",\"bruises\",\"bruising\",\n",
      "\"peliosis\",\"purpura\",\"purpura (finding)\",\"purpura (morphologic abnormality)\",\n",
      "\"bruise\",\"bruising\",\"contusion\",\"contusion (disorder)\"\n",
      "];\n",
      "\n",
      "termset NoseBleedingTerms:[\n",
      "\"epistaxis\",\n",
      "\"nosebleed\", \"nosebleeds\", \"nosebleeding\",\n",
      "\"nose bleed\", \"nose bleeds\", \"nose bleeding\",\n",
      "\"petechia\",\"petechia (morphologic abnormality)\",\"petechiae\",\"petechial haemorrhage\",\"petechial hemorrhage\"\n",
      "];\n",
      "\n",
      "\n",
      "\n"
     ]
    }
   ],
   "source": [
    "nlpql = '''\n",
    "\n",
    "phenotype \"LowPlateletTerms\";\n",
    "\n",
    "termset BruiseTerms:[\n",
    "VerbInflections(\"bruise\"),\n",
    "OHDSI.Synonyms(\"purpura\"),\n",
    "OHDSI.Synonyms(\"contusion\")\n",
    "];\n",
    "\n",
    "termset NoseBleedingTerms:[\n",
    "OHDSI.Synonyms(\"epistaxis\"),\n",
    "\"nosebleed\", \"nosebleeds\", \"nosebleeding\",\n",
    "\"nose bleed\", \"nose bleeds\", \"nose bleeding\",\n",
    "OHDSI.Synonyms(\"petechia\")\n",
    "];\n",
    "\n",
    "\n",
    "'''\n",
    "\n",
    "expanded_nlpql = claritynlp.run_term_expansion(nlpql)\n",
    "print(expanded_nlpql)"
   ]
  },
  {
   "cell_type": "markdown",
   "metadata": {},
   "source": [
    "Since we're using SNOMED as the vocabulary, we get some extra terms that aren't as useful, but we can filter those out. If you have access to OHDSI Atlas, you can explore the OMOP vocabulary in finer detail, and can provide different terms that might not be found using `Synonyms`, `Ancestors` or `Descendants`.  "
   ]
  },
  {
   "cell_type": "markdown",
   "metadata": {},
   "source": [
    "* [Georgia Tech Atlas](https://gt-apps.hdap.gatech.edu/ohdsi/atlas/#/concept/37220014)\n",
    "* [Public Atlas](http://www.ohdsi.org/web/atlas/)"
   ]
  },
  {
   "cell_type": "markdown",
   "metadata": {},
   "source": [
    "![atlas_vocab.png](assets/atlas_vocab.png)"
   ]
  },
  {
   "cell_type": "markdown",
   "metadata": {},
   "source": [
    "### Use case 2: Comparing Structured Data with Symptoms found in ClarityNLP\n",
    "\n",
    "In this next example, we'll look at symptoms found in ClarityNLP compared to structured data. In this case, we're looking at low platelet count. We define that in OHDSI simply by the following:\n",
    "\n",
    "* A blood platelet count < 100\n",
    "\n",
    "In ClarityNLP, we'll look for mentions of some of the [related conditions](https://www.healthline.com/health/thrombocytopenia#symptoms) to having a low platelet count:\n",
    "* **red, purple, or brown bruises, which are called purpura**\n",
    "* **a rash with small red or purple dots called petechiae**\n",
    "* **nosebleeds**\n",
    "* bleeding gums\n",
    "* bleeding from wounds that lasts for a prolonged period or doesn’t stop on its own\n",
    "* heavy menstrual bleeding\n",
    "* bleeding from the rectum\n",
    "* blood in your stool\n",
    "* blood in your urine\n",
    "\n",
    "For this demo, we'll just pick a few to test ClarityNLP."
   ]
  },
  {
   "cell_type": "code",
   "execution_count": 14,
   "metadata": {},
   "outputs": [
    {
     "name": "stdout",
     "output_type": "stream",
     "text": [
      "Job Successfully Submitted\n",
      "{\n",
      "    \"intermediate_results_csv\": \"http://18.220.133.76:5000/job_results/539/phenotype_intermediate\",\n",
      "    \"job_id\": \"539\",\n",
      "    \"luigi_task_monitoring\": \"http://18.220.133.76:8082/static/visualiser/index.html#search__search=job=539\",\n",
      "    \"main_results_csv\": \"http://18.220.133.76:5000/job_results/539/phenotype\",\n",
      "    \"phenotype_config\": \"http://18.220.133.76:5000/phenotype_id/539\",\n",
      "    \"phenotype_id\": \"539\",\n",
      "    \"pipeline_configs\": [\n",
      "        \"http://18.220.133.76:5000/pipeline_id/740\",\n",
      "        \"http://18.220.133.76:5000/pipeline_id/741\"\n",
      "    ],\n",
      "    \"pipeline_ids\": [\n",
      "        740,\n",
      "        741\n",
      "    ],\n",
      "    \"results_viewer\": \"?job=539\",\n",
      "    \"status_endpoint\": \"http://18.220.133.76:5000/status/539\"\n",
      "}\n"
     ]
    }
   ],
   "source": [
    "nlpql = '''\n",
    "\n",
    "phenotype \"LowPlateletConditions\";\n",
    "\n",
    "documentset DocNotes:\n",
    "    Clarity.createReportTypeList([\"Physician \"]);\n",
    "    \n",
    "termset BruiseTerms:[\n",
    "\"bruise\",\"bruised\",\"bruises\",\"bruising\",\n",
    "\"peliosis\",\"purpura\",\n",
    "\"bruise\",\"bruising\",\"contusion\"\n",
    "];\n",
    "\n",
    "termset NoseBleedingTerms:[\n",
    "\"epistaxis\",\n",
    "\"nosebleed\", \"nosebleeds\", \"nosebleeding\",\n",
    "\"nose bleed\", \"nose bleeds\", \"nose bleeding\",\n",
    "\"petechia\",\"petechiae\",\"petechial haemorrhage\",\"petechial hemorrhage\",\n",
    "\"nasal haemorrhage\",\"nasal hemorrhage\"\n",
    "];\n",
    "\n",
    "define hasBruising:\n",
    "Clarity.ProviderAssertion({\n",
    "  termset: [BruiseTerms],\n",
    "  documentset: [DocNotes]\n",
    "});\n",
    "\n",
    "define hasBleeding:\n",
    "Clarity.ProviderAssertion({\n",
    "  termset: [NoseBleedingTerms],\n",
    "  documentset: [DocNotes]\n",
    "});\n",
    "\n",
    "context Patient;\n",
    "\n",
    "define final hasLowPlateletConditions:\n",
    "    where hasBruising AND hasBleeding;\n",
    "'''\n",
    "run_result, main_csv, intermediate_csv, luigi = claritynlp.run_nlpql(nlpql)"
   ]
  },
  {
   "cell_type": "code",
   "execution_count": 32,
   "metadata": {},
   "outputs": [
    {
     "data": {
      "text/html": [
       "<div>\n",
       "<style scoped>\n",
       "    .dataframe tbody tr th:only-of-type {\n",
       "        vertical-align: middle;\n",
       "    }\n",
       "\n",
       "    .dataframe tbody tr th {\n",
       "        vertical-align: top;\n",
       "    }\n",
       "\n",
       "    .dataframe thead th {\n",
       "        text-align: right;\n",
       "    }\n",
       "</style>\n",
       "<table border=\"1\" class=\"dataframe\">\n",
       "  <thead>\n",
       "    <tr style=\"text-align: right;\">\n",
       "      <th></th>\n",
       "      <th>_id</th>\n",
       "      <th>batch</th>\n",
       "      <th>concept_code</th>\n",
       "      <th>end</th>\n",
       "      <th>experiencer</th>\n",
       "      <th>inserted_date</th>\n",
       "      <th>job_id</th>\n",
       "      <th>negation</th>\n",
       "      <th>nlpql_feature</th>\n",
       "      <th>owner</th>\n",
       "      <th>...</th>\n",
       "      <th>report_id</th>\n",
       "      <th>report_type</th>\n",
       "      <th>section</th>\n",
       "      <th>sentence</th>\n",
       "      <th>solr_id</th>\n",
       "      <th>source</th>\n",
       "      <th>start</th>\n",
       "      <th>subject</th>\n",
       "      <th>temporality</th>\n",
       "      <th>term</th>\n",
       "    </tr>\n",
       "  </thead>\n",
       "  <tbody>\n",
       "    <tr>\n",
       "      <th>0</th>\n",
       "      <td>5bbce10e142135056b0876e3</td>\n",
       "      <td>1025</td>\n",
       "      <td>-1</td>\n",
       "      <td>73</td>\n",
       "      <td>Patient</td>\n",
       "      <td>2018-10-09 17:10:38.002000</td>\n",
       "      <td>539</td>\n",
       "      <td>Affirmed</td>\n",
       "      <td>hasBruising</td>\n",
       "      <td>claritynlp</td>\n",
       "      <td>...</td>\n",
       "      <td>507228</td>\n",
       "      <td>Physician</td>\n",
       "      <td>ASSESSMENT_AND_PLAN</td>\n",
       "      <td>24 y/o female s/p blunt head injury, negative head CT, possible contusion vs. developing SDH</td>\n",
       "      <td>507228</td>\n",
       "      <td>MIMIC</td>\n",
       "      <td>64</td>\n",
       "      <td>31628</td>\n",
       "      <td>Historical</td>\n",
       "      <td>contusion</td>\n",
       "    </tr>\n",
       "    <tr>\n",
       "      <th>1</th>\n",
       "      <td>5bbce10e14213505650876e3</td>\n",
       "      <td>1475</td>\n",
       "      <td>-1</td>\n",
       "      <td>83</td>\n",
       "      <td>Patient</td>\n",
       "      <td>2018-10-09 17:10:38.502000</td>\n",
       "      <td>539</td>\n",
       "      <td>Affirmed</td>\n",
       "      <td>hasBruising</td>\n",
       "      <td>claritynlp</td>\n",
       "      <td>...</td>\n",
       "      <td>533632</td>\n",
       "      <td>Physician</td>\n",
       "      <td>RADIOGRAPHIC_STUDIES</td>\n",
       "      <td>CXR Residual consolidation in the left lower lung could be atelectasis or contusion or aspiration.</td>\n",
       "      <td>533632</td>\n",
       "      <td>MIMIC</td>\n",
       "      <td>74</td>\n",
       "      <td>42067</td>\n",
       "      <td>Recent</td>\n",
       "      <td>contusion</td>\n",
       "    </tr>\n",
       "    <tr>\n",
       "      <th>2</th>\n",
       "      <td>5bbce10f142135056e0876e3</td>\n",
       "      <td>525</td>\n",
       "      <td>-1</td>\n",
       "      <td>191</td>\n",
       "      <td>Patient</td>\n",
       "      <td>2018-10-09 17:10:39.177000</td>\n",
       "      <td>539</td>\n",
       "      <td>Affirmed</td>\n",
       "      <td>hasBruising</td>\n",
       "      <td>claritynlp</td>\n",
       "      <td>...</td>\n",
       "      <td>588420</td>\n",
       "      <td>Physician</td>\n",
       "      <td>CEREBRAL_ANGIOGRAPHY</td>\n",
       "      <td>There has been progression of intracranial hemorrhage since prior study of 4 hours earlier: new foci of parenchymal hemorrhage in the right frontal cortex inferiorly could be due to contusion.</td>\n",
       "      <td>588420</td>\n",
       "      <td>MIMIC</td>\n",
       "      <td>182</td>\n",
       "      <td>42052</td>\n",
       "      <td>Historical</td>\n",
       "      <td>contusion</td>\n",
       "    </tr>\n",
       "    <tr>\n",
       "      <th>3</th>\n",
       "      <td>5bbce10f142135056e0876e4</td>\n",
       "      <td>525</td>\n",
       "      <td>-1</td>\n",
       "      <td>61</td>\n",
       "      <td>Patient</td>\n",
       "      <td>2018-10-09 17:10:39.181000</td>\n",
       "      <td>539</td>\n",
       "      <td>Affirmed</td>\n",
       "      <td>hasBruising</td>\n",
       "      <td>claritynlp</td>\n",
       "      <td>...</td>\n",
       "      <td>588420</td>\n",
       "      <td>Physician</td>\n",
       "      <td>CEREBRAL_CT</td>\n",
       "      <td>little interval change in right frontal hemorrhagic contusion with surrounding edema, subarachnoid blood also appears unchanged [**4-8**] CT angio</td>\n",
       "      <td>588420</td>\n",
       "      <td>MIMIC</td>\n",
       "      <td>52</td>\n",
       "      <td>42052</td>\n",
       "      <td>Recent</td>\n",
       "      <td>contusion</td>\n",
       "    </tr>\n",
       "    <tr>\n",
       "      <th>4</th>\n",
       "      <td>5bbce10f14213505650876e4</td>\n",
       "      <td>1475</td>\n",
       "      <td>-1</td>\n",
       "      <td>107</td>\n",
       "      <td>Patient</td>\n",
       "      <td>2018-10-09 17:10:39.290000</td>\n",
       "      <td>539</td>\n",
       "      <td>Affirmed</td>\n",
       "      <td>hasBruising</td>\n",
       "      <td>claritynlp</td>\n",
       "      <td>...</td>\n",
       "      <td>536242</td>\n",
       "      <td>Physician</td>\n",
       "      <td>HISTORY_PRESENT_ILLNESS</td>\n",
       "      <td>Head CT shows an old posterior right temporal hypodensity, likely encephalomalacia from her prior contusion.</td>\n",
       "      <td>536242</td>\n",
       "      <td>MIMIC</td>\n",
       "      <td>98</td>\n",
       "      <td>12925</td>\n",
       "      <td>Historical</td>\n",
       "      <td>contusion</td>\n",
       "    </tr>\n",
       "  </tbody>\n",
       "</table>\n",
       "<p>5 rows × 24 columns</p>\n",
       "</div>"
      ],
      "text/plain": [
       "                        _id  batch  concept_code  end experiencer               inserted_date  job_id  negation nlpql_feature       owner    ...      report_id  report_type                  section                                                                                                                                                                                          sentence  solr_id source start subject  temporality       term\n",
       "0  5bbce10e142135056b0876e3   1025            -1   73     Patient  2018-10-09 17:10:38.002000     539  Affirmed   hasBruising  claritynlp    ...         507228   Physician       ASSESSMENT_AND_PLAN                                                                                                      24 y/o female s/p blunt head injury, negative head CT, possible contusion vs. developing SDH   507228  MIMIC    64   31628   Historical  contusion\n",
       "1  5bbce10e14213505650876e3   1475            -1   83     Patient  2018-10-09 17:10:38.502000     539  Affirmed   hasBruising  claritynlp    ...         533632   Physician      RADIOGRAPHIC_STUDIES                                                                                                CXR Residual consolidation in the left lower lung could be atelectasis or contusion or aspiration.   533632  MIMIC    74   42067       Recent  contusion\n",
       "2  5bbce10f142135056e0876e3    525            -1  191     Patient  2018-10-09 17:10:39.177000     539  Affirmed   hasBruising  claritynlp    ...         588420   Physician      CEREBRAL_ANGIOGRAPHY  There has been progression of intracranial hemorrhage since prior study of 4 hours earlier: new foci of parenchymal hemorrhage in the right frontal cortex inferiorly could be due to contusion.   588420  MIMIC   182   42052   Historical  contusion\n",
       "3  5bbce10f142135056e0876e4    525            -1   61     Patient  2018-10-09 17:10:39.181000     539  Affirmed   hasBruising  claritynlp    ...         588420   Physician               CEREBRAL_CT                                                little interval change in right frontal hemorrhagic contusion with surrounding edema, subarachnoid blood also appears unchanged [**4-8**] CT angio   588420  MIMIC    52   42052       Recent  contusion\n",
       "4  5bbce10f14213505650876e4   1475            -1  107     Patient  2018-10-09 17:10:39.290000     539  Affirmed   hasBruising  claritynlp    ...         536242   Physician   HISTORY_PRESENT_ILLNESS                                                                                      Head CT shows an old posterior right temporal hypodensity, likely encephalomalacia from her prior contusion.   536242  MIMIC    98   12925   Historical  contusion\n",
       "\n",
       "[5 rows x 24 columns]"
      ]
     },
     "execution_count": 32,
     "metadata": {},
     "output_type": "execute_result"
    }
   ],
   "source": [
    "inter_csv_df = pd.read_csv('http://18.220.133.76:5000/job_results/539/phenotype_intermediate')\n",
    "inter_csv_df.head()"
   ]
  },
  {
   "cell_type": "code",
   "execution_count": 37,
   "metadata": {},
   "outputs": [
    {
     "data": {
      "text/html": [
       "<div>\n",
       "<style scoped>\n",
       "    .dataframe tbody tr th:only-of-type {\n",
       "        vertical-align: middle;\n",
       "    }\n",
       "\n",
       "    .dataframe tbody tr th {\n",
       "        vertical-align: top;\n",
       "    }\n",
       "\n",
       "    .dataframe thead th {\n",
       "        text-align: right;\n",
       "    }\n",
       "</style>\n",
       "<table border=\"1\" class=\"dataframe\">\n",
       "  <thead>\n",
       "    <tr style=\"text-align: right;\">\n",
       "      <th></th>\n",
       "      <th>_id</th>\n",
       "      <th>_id_x</th>\n",
       "      <th>_id_y</th>\n",
       "      <th>context_type</th>\n",
       "      <th>job_date</th>\n",
       "      <th>job_id</th>\n",
       "      <th>nlpql_feature</th>\n",
       "      <th>nlpql_feature_x</th>\n",
       "      <th>nlpql_feature_y</th>\n",
       "      <th>owner</th>\n",
       "      <th>phenotype_final</th>\n",
       "      <th>phenotype_id</th>\n",
       "      <th>raw_definition_text</th>\n",
       "      <th>report_date_x</th>\n",
       "      <th>report_date_y</th>\n",
       "      <th>report_id_x</th>\n",
       "      <th>report_id_y</th>\n",
       "      <th>sentence_x</th>\n",
       "      <th>sentence_y</th>\n",
       "      <th>subject</th>\n",
       "    </tr>\n",
       "  </thead>\n",
       "  <tbody>\n",
       "    <tr>\n",
       "      <th>0</th>\n",
       "      <td>5bbcebe11421350f220876e3</td>\n",
       "      <td>5bbce13c142135056b0876f6</td>\n",
       "      <td>5bbce4ef14213508f10876ea</td>\n",
       "      <td>subject</td>\n",
       "      <td>2018-10-09 17:56:49.197000</td>\n",
       "      <td>539</td>\n",
       "      <td>hasLowPlateletConditions</td>\n",
       "      <td>hasBruising</td>\n",
       "      <td>hasBleeding</td>\n",
       "      <td>539</td>\n",
       "      <td>True</td>\n",
       "      <td>539</td>\n",
       "      <td>hasBruising AND hasBleeding</td>\n",
       "      <td>2199-08-05T00:00:00Z</td>\n",
       "      <td>2199-08-05T00:00:00Z</td>\n",
       "      <td>627661</td>\n",
       "      <td>628692</td>\n",
       "      <td>Per OSH notes, the patient initially presented yesturday afternoon to OSH ED complaining of left ankle and tibial pain and bruising after hitting his leg on the car door.</td>\n",
       "      <td>COUGHING BLOOD -- unclear whether blood represents hemoptysis, GI bleeding/hematemesis, or epistaxis.</td>\n",
       "      <td>39166</td>\n",
       "    </tr>\n",
       "    <tr>\n",
       "      <th>1</th>\n",
       "      <td>5bbcebe11421350f220876e4</td>\n",
       "      <td>5bbce13c142135056b0876f6</td>\n",
       "      <td>5bbce4f514213508f10876ef</td>\n",
       "      <td>subject</td>\n",
       "      <td>2018-10-09 17:56:49.197000</td>\n",
       "      <td>539</td>\n",
       "      <td>hasLowPlateletConditions</td>\n",
       "      <td>hasBruising</td>\n",
       "      <td>hasBleeding</td>\n",
       "      <td>539</td>\n",
       "      <td>True</td>\n",
       "      <td>539</td>\n",
       "      <td>hasBruising AND hasBleeding</td>\n",
       "      <td>2199-08-05T00:00:00Z</td>\n",
       "      <td>2199-08-05T00:00:00Z</td>\n",
       "      <td>627661</td>\n",
       "      <td>628688</td>\n",
       "      <td>Per OSH notes, the patient initially presented yesturday afternoon to OSH ED complaining of left ankle and tibial pain and bruising after hitting his leg on the car door.</td>\n",
       "      <td>COUGHING BLOOD -- unclear whether blood represents hemoptysis, GI bleeding/hematemesis, or epistaxis.</td>\n",
       "      <td>39166</td>\n",
       "    </tr>\n",
       "    <tr>\n",
       "      <th>2</th>\n",
       "      <td>5bbcebe11421350f220876e5</td>\n",
       "      <td>5bbce13c142135056b0876f6</td>\n",
       "      <td>5bbce4fb14213508fc0876e4</td>\n",
       "      <td>subject</td>\n",
       "      <td>2018-10-09 17:56:49.197000</td>\n",
       "      <td>539</td>\n",
       "      <td>hasLowPlateletConditions</td>\n",
       "      <td>hasBruising</td>\n",
       "      <td>hasBleeding</td>\n",
       "      <td>539</td>\n",
       "      <td>True</td>\n",
       "      <td>539</td>\n",
       "      <td>hasBruising AND hasBleeding</td>\n",
       "      <td>2199-08-05T00:00:00Z</td>\n",
       "      <td>2199-08-05T00:00:00Z</td>\n",
       "      <td>627661</td>\n",
       "      <td>628507</td>\n",
       "      <td>Per OSH notes, the patient initially presented yesturday afternoon to OSH ED complaining of left ankle and tibial pain and bruising after hitting his leg on the car door.</td>\n",
       "      <td>Given dark NG lavage and small amount suctioned (20cc).This GI collected blood may be secondary to ingested hempotysis source or from a nasopharyngeal /nosebleed in the setting of an elevated INR vs. true pulmonary source and overt hemoptysis.</td>\n",
       "      <td>39166</td>\n",
       "    </tr>\n",
       "    <tr>\n",
       "      <th>3</th>\n",
       "      <td>5bbcebe11421350f220876e6</td>\n",
       "      <td>5bbce13c142135056b0876f6</td>\n",
       "      <td>5bbce8b41421350c4f087713</td>\n",
       "      <td>subject</td>\n",
       "      <td>2018-10-09 17:56:49.197000</td>\n",
       "      <td>539</td>\n",
       "      <td>hasLowPlateletConditions</td>\n",
       "      <td>hasBruising</td>\n",
       "      <td>hasBleeding</td>\n",
       "      <td>539</td>\n",
       "      <td>True</td>\n",
       "      <td>539</td>\n",
       "      <td>hasBruising AND hasBleeding</td>\n",
       "      <td>2199-08-05T00:00:00Z</td>\n",
       "      <td>2199-08-05T00:00:00Z</td>\n",
       "      <td>627661</td>\n",
       "      <td>627661</td>\n",
       "      <td>Per OSH notes, the patient initially presented yesturday afternoon to OSH ED complaining of left ankle and tibial pain and bruising after hitting his leg on the car door.</td>\n",
       "      <td>COUGHING BLOOD -- unclear whether blood represents hemoptysis, GI bleeding/hematemesis, or epistaxis.</td>\n",
       "      <td>39166</td>\n",
       "    </tr>\n",
       "    <tr>\n",
       "      <th>4</th>\n",
       "      <td>5bbcebe11421350f220876e7</td>\n",
       "      <td>5bbce13c142135056b0876f6</td>\n",
       "      <td>5bbce8b61421350c4f087714</td>\n",
       "      <td>subject</td>\n",
       "      <td>2018-10-09 17:56:49.197000</td>\n",
       "      <td>539</td>\n",
       "      <td>hasLowPlateletConditions</td>\n",
       "      <td>hasBruising</td>\n",
       "      <td>hasBleeding</td>\n",
       "      <td>539</td>\n",
       "      <td>True</td>\n",
       "      <td>539</td>\n",
       "      <td>hasBruising AND hasBleeding</td>\n",
       "      <td>2199-08-05T00:00:00Z</td>\n",
       "      <td>2199-08-05T00:00:00Z</td>\n",
       "      <td>627661</td>\n",
       "      <td>627663</td>\n",
       "      <td>Per OSH notes, the patient initially presented yesturday afternoon to OSH ED complaining of left ankle and tibial pain and bruising after hitting his leg on the car door.</td>\n",
       "      <td>COUGHING BLOOD -- unclear whether blood represents hemoptysis, GI bleeding/hematemesis, or epistaxis.</td>\n",
       "      <td>39166</td>\n",
       "    </tr>\n",
       "  </tbody>\n",
       "</table>\n",
       "</div>"
      ],
      "text/plain": [
       "                        _id                     _id_x                     _id_y context_type                    job_date  job_id             nlpql_feature nlpql_feature_x nlpql_feature_y  owner  phenotype_final  phenotype_id          raw_definition_text         report_date_x         report_date_y  report_id_x  report_id_y                                                                                                                                                                  sentence_x                                                                                                                                                                                                                                           sentence_y  subject\n",
       "0  5bbcebe11421350f220876e3  5bbce13c142135056b0876f6  5bbce4ef14213508f10876ea      subject  2018-10-09 17:56:49.197000     539  hasLowPlateletConditions     hasBruising     hasBleeding    539             True           539  hasBruising AND hasBleeding  2199-08-05T00:00:00Z  2199-08-05T00:00:00Z       627661       628692  Per OSH notes, the patient initially presented yesturday afternoon to OSH ED complaining of left ankle and tibial pain and bruising after hitting his leg on the car door.                                                                                                                                                COUGHING BLOOD -- unclear whether blood represents hemoptysis, GI bleeding/hematemesis, or epistaxis.    39166\n",
       "1  5bbcebe11421350f220876e4  5bbce13c142135056b0876f6  5bbce4f514213508f10876ef      subject  2018-10-09 17:56:49.197000     539  hasLowPlateletConditions     hasBruising     hasBleeding    539             True           539  hasBruising AND hasBleeding  2199-08-05T00:00:00Z  2199-08-05T00:00:00Z       627661       628688  Per OSH notes, the patient initially presented yesturday afternoon to OSH ED complaining of left ankle and tibial pain and bruising after hitting his leg on the car door.                                                                                                                                                COUGHING BLOOD -- unclear whether blood represents hemoptysis, GI bleeding/hematemesis, or epistaxis.    39166\n",
       "2  5bbcebe11421350f220876e5  5bbce13c142135056b0876f6  5bbce4fb14213508fc0876e4      subject  2018-10-09 17:56:49.197000     539  hasLowPlateletConditions     hasBruising     hasBleeding    539             True           539  hasBruising AND hasBleeding  2199-08-05T00:00:00Z  2199-08-05T00:00:00Z       627661       628507  Per OSH notes, the patient initially presented yesturday afternoon to OSH ED complaining of left ankle and tibial pain and bruising after hitting his leg on the car door.  Given dark NG lavage and small amount suctioned (20cc).This GI collected blood may be secondary to ingested hempotysis source or from a nasopharyngeal /nosebleed in the setting of an elevated INR vs. true pulmonary source and overt hemoptysis.    39166\n",
       "3  5bbcebe11421350f220876e6  5bbce13c142135056b0876f6  5bbce8b41421350c4f087713      subject  2018-10-09 17:56:49.197000     539  hasLowPlateletConditions     hasBruising     hasBleeding    539             True           539  hasBruising AND hasBleeding  2199-08-05T00:00:00Z  2199-08-05T00:00:00Z       627661       627661  Per OSH notes, the patient initially presented yesturday afternoon to OSH ED complaining of left ankle and tibial pain and bruising after hitting his leg on the car door.                                                                                                                                                COUGHING BLOOD -- unclear whether blood represents hemoptysis, GI bleeding/hematemesis, or epistaxis.    39166\n",
       "4  5bbcebe11421350f220876e7  5bbce13c142135056b0876f6  5bbce8b61421350c4f087714      subject  2018-10-09 17:56:49.197000     539  hasLowPlateletConditions     hasBruising     hasBleeding    539             True           539  hasBruising AND hasBleeding  2199-08-05T00:00:00Z  2199-08-05T00:00:00Z       627661       627663  Per OSH notes, the patient initially presented yesturday afternoon to OSH ED complaining of left ankle and tibial pain and bruising after hitting his leg on the car door.                                                                                                                                                COUGHING BLOOD -- unclear whether blood represents hemoptysis, GI bleeding/hematemesis, or epistaxis.    39166"
      ]
     },
     "execution_count": 37,
     "metadata": {},
     "output_type": "execute_result"
    }
   ],
   "source": [
    "main_csv_df = pd.read_csv('http://18.220.133.76:5000/job_results/539/phenotype')\n",
    "main_csv_df.head()"
   ]
  },
  {
   "cell_type": "markdown",
   "metadata": {},
   "source": [
    "We can see that from the ClarityNLP [result viewer](http://18.220.133.76:8200/?job=538), we have some patients who have potential for having low platelet count. Now, let's integrate an OHDSI cohort to see how the data sets compare."
   ]
  },
  {
   "cell_type": "markdown",
   "metadata": {},
   "source": [
    "![results_viewer.png](assets/results_viewer.png)"
   ]
  },
  {
   "cell_type": "markdown",
   "metadata": {},
   "source": [
    "### Creating Cohorts from Structured Data\n",
    "\n",
    "OHDSI Atlas has an extensive builder for building out cohorts on structured data. In this case, we'll look at patients who've had a platelet count using a platelet measure less than 100.\n",
    "![low_platelet_cohort.png](assets/low_platelet_cohort.png)"
   ]
  },
  {
   "cell_type": "code",
   "execution_count": 17,
   "metadata": {},
   "outputs": [],
   "source": [
    "# Low Platelet Cohort JSON\n",
    "# OHDSI Cohorts can be shared via JSON, an example is shown here.\n",
    "json = '''\n",
    "{\n",
    "  \"ConceptSets\": [\n",
    "    {\n",
    "      \"id\": 0,\n",
    "      \"name\": \"Platelets\",\n",
    "      \"expression\": {\n",
    "        \"items\": [\n",
    "          {\n",
    "            \"concept\": {\n",
    "              \"CONCEPT_ID\": 3024929,\n",
    "              \"CONCEPT_NAME\": \"Platelets [#/volume] in Blood by Automated count\",\n",
    "              \"STANDARD_CONCEPT\": \"S\",\n",
    "              \"INVALID_REASON\": \"V\",\n",
    "              \"CONCEPT_CODE\": \"777-3\",\n",
    "              \"DOMAIN_ID\": \"Measurement\",\n",
    "              \"VOCABULARY_ID\": \"LOINC\",\n",
    "              \"CONCEPT_CLASS_ID\": \"Lab Test\",\n",
    "              \"STANDARD_CONCEPT_CAPTION\": \"Standard\",\n",
    "              \"INVALID_REASON_CAPTION\": \"Valid\"\n",
    "            }\n",
    "          }\n",
    "        ]\n",
    "      }\n",
    "    }\n",
    "  ],\n",
    "  \"PrimaryCriteria\": {\n",
    "    \"CriteriaList\": [\n",
    "      {\n",
    "        \"Measurement\": {\n",
    "          \"CodesetId\": 0,\n",
    "          \"ValueAsNumber\": {\n",
    "            \"Value\": 100,\n",
    "            \"Op\": \"lte\"\n",
    "          }\n",
    "        }\n",
    "      }\n",
    "    ],\n",
    "    \"ObservationWindow\": {\n",
    "      \"PriorDays\": 0,\n",
    "      \"PostDays\": 0\n",
    "    },\n",
    "    \"PrimaryCriteriaLimit\": {\n",
    "      \"Type\": \"First\"\n",
    "    }\n",
    "  },\n",
    "  \"QualifiedLimit\": {\n",
    "    \"Type\": \"First\"\n",
    "  },\n",
    "  \"ExpressionLimit\": {\n",
    "    \"Type\": \"First\"\n",
    "  },\n",
    "  \"InclusionRules\": [],\n",
    "  \"CensoringCriteria\": [],\n",
    "  \"CollapseSettings\": {\n",
    "    \"CollapseType\": \"ERA\",\n",
    "    \"EraPad\": 0\n",
    "  },\n",
    "  \"CensorWindow\": {}\n",
    "}\n",
    "'''"
   ]
  },
  {
   "cell_type": "markdown",
   "metadata": {},
   "source": [
    "### Comparing OHDSI and ClarityNLP data sets\n",
    "\n",
    "Now let's explore OHDSI and ClarityNLP data sets. Note that we might not find much in common in here, because in ClarityNLP, we're looking at patients with a couple low platelet symptoms. While in OHDSI, we're looking at people who've been found to have a low platelet count.\n",
    "\n",
    "\n",
    "We'll begin by loading up the OHDSI cohort into a data frame."
   ]
  },
  {
   "cell_type": "code",
   "execution_count": 6,
   "metadata": {},
   "outputs": [
    {
     "data": {
      "text/html": [
       "<div>\n",
       "<style scoped>\n",
       "    .dataframe tbody tr th:only-of-type {\n",
       "        vertical-align: middle;\n",
       "    }\n",
       "\n",
       "    .dataframe tbody tr th {\n",
       "        vertical-align: top;\n",
       "    }\n",
       "\n",
       "    .dataframe thead th {\n",
       "        text-align: right;\n",
       "    }\n",
       "</style>\n",
       "<table border=\"1\" class=\"dataframe\">\n",
       "  <thead>\n",
       "    <tr style=\"text-align: right;\">\n",
       "      <th></th>\n",
       "      <th>cohortDefinitionId</th>\n",
       "      <th>cohortEndDate</th>\n",
       "      <th>cohortStartDate</th>\n",
       "      <th>subjectId</th>\n",
       "    </tr>\n",
       "  </thead>\n",
       "  <tbody>\n",
       "    <tr>\n",
       "      <th>0</th>\n",
       "      <td>356</td>\n",
       "      <td>4515264000000</td>\n",
       "      <td>4512585600000</td>\n",
       "      <td>29821</td>\n",
       "    </tr>\n",
       "    <tr>\n",
       "      <th>1</th>\n",
       "      <td>356</td>\n",
       "      <td>4537900800000</td>\n",
       "      <td>4535222400000</td>\n",
       "      <td>38681</td>\n",
       "    </tr>\n",
       "    <tr>\n",
       "      <th>2</th>\n",
       "      <td>356</td>\n",
       "      <td>5180112000000</td>\n",
       "      <td>5173027200000</td>\n",
       "      <td>44187</td>\n",
       "    </tr>\n",
       "    <tr>\n",
       "      <th>3</th>\n",
       "      <td>356</td>\n",
       "      <td>4626633600000</td>\n",
       "      <td>4626201600000</td>\n",
       "      <td>10243</td>\n",
       "    </tr>\n",
       "    <tr>\n",
       "      <th>4</th>\n",
       "      <td>356</td>\n",
       "      <td>7280323200000</td>\n",
       "      <td>7276521600000</td>\n",
       "      <td>15859</td>\n",
       "    </tr>\n",
       "  </tbody>\n",
       "</table>\n",
       "</div>"
      ],
      "text/plain": [
       "   cohortDefinitionId  cohortEndDate  cohortStartDate  subjectId\n",
       "0                 356  4515264000000    4512585600000      29821\n",
       "1                 356  4537900800000    4535222400000      38681\n",
       "2                 356  5180112000000    5173027200000      44187\n",
       "3                 356  4626633600000    4626201600000      10243\n",
       "4                 356  7280323200000    7276521600000      15859"
      ]
     },
     "execution_count": 6,
     "metadata": {},
     "output_type": "execute_result"
    }
   ],
   "source": [
    "low_platelet_patients = pd.DataFrame(claritynlp.get_cohort_patients(356)['Patients'])\n",
    "low_platelet_patients.head()"
   ]
  },
  {
   "cell_type": "code",
   "execution_count": 39,
   "metadata": {},
   "outputs": [
    {
     "data": {
      "text/plain": [
       "(8031, 4)"
      ]
     },
     "execution_count": 39,
     "metadata": {},
     "output_type": "execute_result"
    }
   ],
   "source": [
    "low_platelet_patients.shape"
   ]
  },
  {
   "cell_type": "code",
   "execution_count": 40,
   "metadata": {},
   "outputs": [
    {
     "data": {
      "text/plain": [
       "(4684, 24)"
      ]
     },
     "execution_count": 40,
     "metadata": {},
     "output_type": "execute_result"
    }
   ],
   "source": [
    "inter_csv_df.shape"
   ]
  },
  {
   "cell_type": "markdown",
   "metadata": {},
   "source": [
    "Note that the ClarityNLP data set has multiple patients because we're looking at each instance of bleeding or bruising (we'll fix that in a second). What else can we learn by comparing these 2 data sets?"
   ]
  },
  {
   "cell_type": "code",
   "execution_count": 41,
   "metadata": {},
   "outputs": [],
   "source": [
    "def get_patient_sets(clarity_df, ohdsi_df):\n",
    "    unique_clarity_patients = set(clarity_df['subject'])\n",
    "    unique_ohdsi_patients = set(ohdsi_df['subjectId'])\n",
    "    print(\"Union :\", len(unique_clarity_patients | unique_ohdsi_patients))\n",
    "    print(\"Intersection :\", len(unique_clarity_patients & unique_ohdsi_patients))\n",
    "    print(\"Difference (OHDSI - ClarityNLP):\", len(unique_ohdsi_patients - unique_clarity_patients))\n",
    "    print(\"Difference (ClarityNLP - OHDSI):\", len(unique_clarity_patients - unique_ohdsi_patients))\n",
    "    venn2([unique_clarity_patients, unique_ohdsi_patients], set_labels=('ClarityNLP', 'OHDSI'))\n",
    "    \n",
    "    return unique_clarity_patients, unique_ohdsi_patients\n"
   ]
  },
  {
   "cell_type": "code",
   "execution_count": 42,
   "metadata": {},
   "outputs": [
    {
     "name": "stdout",
     "output_type": "stream",
     "text": [
      "ClarityNLP Patients with Bleeding or Bruising.\n",
      "OHDSI Patients with Low Platelets.\n",
      "\n",
      "Union : 8450\n",
      "Intersection : 184\n",
      "Difference (OHDSI - ClarityNLP): 7847\n",
      "Difference (ClarityNLP - OHDSI): 419\n"
     ]
    },
    {
     "data": {
      "image/png": "[encoded data removed]",
      "text/plain": [
       "<Figure size 432x288 with 1 Axes>"
      ]
     },
     "metadata": {},
     "output_type": "display_data"
    }
   ],
   "source": [
    "print('ClarityNLP Patients with Bleeding or Bruising.')\n",
    "print('OHDSI Patients with Low Platelets.')\n",
    "print()\n",
    "unique_clarity_patients, unique_ohdsi_patients = get_patient_sets(inter_csv_df, low_platelet_patients)"
   ]
  },
  {
   "cell_type": "markdown",
   "metadata": {},
   "source": [
    "So, we only found 184 patients with condistion in ClarityNLP related to a low platelet count. What might be a reason the numbers or so low?\n",
    "\n",
    "* We don't have notes on all the patients in MIMIC.\n",
    "* We only look at Physician notes, maybe in the future we should expand that.\n",
    "* We didn't specifically look for \"low platelet\" or even all the symptoms related to having a low platelet count.\n",
    "\n",
    "Let's look at patients who had bleed and bruising."
   ]
  },
  {
   "cell_type": "code",
   "execution_count": 48,
   "metadata": {},
   "outputs": [
    {
     "name": "stdout",
     "output_type": "stream",
     "text": [
      "ClarityNLP Patients with Bleeding and Bruising.\n",
      "OHDSI Patients with Low Platelets.\n",
      "\n",
      "Union : 8053\n",
      "Intersection : 22\n",
      "Difference (OHDSI - ClarityNLP): 8009\n",
      "Difference (ClarityNLP - OHDSI): 22\n"
     ]
    },
    {
     "data": {
      "image/png": "[encoded data removed]",
      "text/plain": [
       "<Figure size 432x288 with 1 Axes>"
      ]
     },
     "metadata": {},
     "output_type": "display_data"
    }
   ],
   "source": [
    "print('ClarityNLP Patients with Bleeding and Bruising.')\n",
    "print('OHDSI Patients with Low Platelets.')\n",
    "print()\n",
    "unique_clarity_patients, unique_ohdsi_patients = get_patient_sets(main_csv_df, low_platelet_patients)"
   ]
  },
  {
   "cell_type": "markdown",
   "metadata": {},
   "source": [
    "Note that the patients that were found to have \n",
    "\n",
    "This is an introductory example on how to compare OHDSI and ClarityNLP. We'll dig into further examples on this data and others on how ClarityNLP and OMOP integrate. "
   ]
  }
 ],
 "metadata": {
  "kernelspec": {
   "display_name": "Python 3",
   "language": "python",
   "name": "python3"
  },
  "language_info": {
   "codemirror_mode": {
    "name": "ipython",
    "version": 3
   },
   "file_extension": ".py",
   "mimetype": "text/x-python",
   "name": "python",
   "nbconvert_exporter": "python",
   "pygments_lexer": "ipython3",
   "version": "3.5.2"
  }
 },
 "nbformat": 4,
 "nbformat_minor": 2
}
