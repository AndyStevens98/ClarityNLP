{
 "cells": [
  {
   "cell_type": "markdown",
   "metadata": {},
   "source": [
    "## Cooking with ClarityNLP - Session #6"
   ]
  },
  {
   "cell_type": "markdown",
   "metadata": {},
   "source": [
    "Today we'll be discussing setup and configuration of ClarityNLP. We'll discuss system requirements, installation steps, report type mapping and data ingestion."
   ]
  },
  {
   "cell_type": "markdown",
   "metadata": {},
   "source": [
    "### System Requirements:"
   ]
  },
  {
   "cell_type": "markdown",
   "metadata": {},
   "source": [
    "1. Install [Docker for Mac](https://www.docker.com/docker-mac) or [Docker for Windows](https://www.docker.com/docker-windows)\n",
    "\n",
    "2. These are the recommended Docker settings for ClarityNLP. In Docker, they can be updated via ```Docker > Preferences > Advanced:```\n",
    "\n",
    "    * Memory: $>8$ GB\n",
    "    * Disk: $>256$ GB recommended, but can run on much less (depends on data needs)\n",
    "\n",
    "<div> <img src=\"./assets/docker_memory_config.png\" alt=\"Adjusting Docker Memory Allocation\" style=\"width: 300px;\"/> </div>\n",
    " "
   ]
  },
  {
   "cell_type": "markdown",
   "metadata": {},
   "source": [
    "### Installation via Git:"
   ]
  },
  {
   "cell_type": "markdown",
   "metadata": {},
   "source": [
    "1. [Install git](https://git-scm.com/book/en/v2/Getting-Started-Installing-Git) if you do not already have it installed on your machine. Alternatively, you can also [download](https://github.com/ClarityNLP/ClarityNLP/archive/master.zip) the ClarityNLP repository as a zip file. <br/><br/>\n",
    "\n",
    "2. If you choose to clone the repository, in a terminal window, run:<br/><br/>\n",
    "    ```git clone https://github.com/ClarityNLP/ClarityNLP``` <br/><br/>\n",
    "    \n",
    "3. Switch to the ClarityNLP directory <br/><br/>\n",
    "    ```cd ClarityNLP``` <br/><br/>\n",
    "\n",
    "4. Initialize submodules <br/><br/>\n",
    "    ```git submodule update --init --recursive``` <br/><br/>\n",
    "\n",
    "5. Add .env file, use ```.env.example``` as a start: <br/><br/>\n",
    "    ```touch .env``` <br/><br/>\n",
    "    ```cat .env.example >> .env```"
   ]
  },
  {
   "cell_type": "markdown",
   "metadata": {},
   "source": [
    "### Post-Installlation via Docker:"
   ]
  },
  {
   "cell_type": "markdown",
   "metadata": {},
   "source": [
    "1. Build images and run containers. This will take 30-60 minutes the first time. <br><br>\n",
    "```sh run_claritynlp.sh``` <br><br>\n",
    "\n",
    "    Note that while this script is running, you will observe many system initializations inside the terminal window. These correspond to ClarityNLP's dependencies, and will look something like this:\n",
    "    \n",
    "    <div> <img src=\"./assets/docker_compose_in_progress.png\" alt=\"Docker Compose In-Progress (Mac)\" style=\"width: 800px\"/> </div><br><br>\n",
    "\n",
    "2. Alternatively, you can call Docker directly: <br><br>\n",
    "```docker-compose up --build``` <br><br>\n",
    "\n",
    "3. To verify that containers are running, open a new terminal window and run:<br><br>\n",
    "``` docker ps``` \n",
    "\n",
    "    The Luigi container will monitor for active tasks. It is expected to see the following output throughout the logs.\n",
    "\n",
    "    ```LUIGI_SCHEDULER   | 2018-10-16 19:46:19,149 luigi.scheduler INFO     Starting pruning of task graph\n",
    "    LUIGI_SCHEDULER   | 2018-10-16 19:46:19,149 luigi.scheduler INFO     Done pruning task graph``` <br><br>\n",
    "\n",
    "4. To shut down ClarityNLP:<br><br>\n",
    "    Hit ```CMD+C (Mac)``` or ```Ctrl+C (Windows)``` from the terminal window where ClarityNLP was started. \n",
    "\n",
    "    Alternatively, you can run the following shell script to forcefully kill the containers: \n",
    "\n",
    "    ```sh stop_all_docker_containers.sh``` "
   ]
  },
  {
   "cell_type": "markdown",
   "metadata": {},
   "source": [
    "### Trouble-shooting common roadblocks:"
   ]
  },
  {
   "cell_type": "markdown",
   "metadata": {},
   "source": [
    "1. You may experience networking issues if you attempt to stand up ClarityNLP locally using Docker while on a VPN and/or behind a firewall. This is because Docker requires specific ports to be open/accessible, and VPN/firewall settings may interfere with these requirements. <br><br>\n",
    "\n",
    "2. If your data is hosted in an air-gapped environment, you will need to set up ClarityNLP first (e.g., while connected to the Internet), and then move the VM to the air-gapped environment as a second step. <br><br>\n",
    "\n",
    "3. If you experience port-related issues on a specific subset of port(s), check to make sure that you do not have any services running that conflict: <br><br>\n",
    "<div><img src=\"./assets/docker_ports.png\" alt=\"Docker Port Usage\" style=\"width: 1100px\"/> </div><br><br>\n",
    "\n",
    "4. If you wish to use a hosted version of one of ClarityNLP's services (such as MongoDB, Solr, Postgres), you can comment in your `.env` file and modify your `docker-compose.yml` to setup those services. You will need to manually setup Postgres and Solr with the corresponding schemas found in the ClarityNLP `utilities/` directory."
   ]
  },
  {
   "cell_type": "markdown",
   "metadata": {},
   "source": [
    "### ClarityNLP Links:"
   ]
  },
  {
   "cell_type": "markdown",
   "metadata": {},
   "source": [
    "ClarityNLP's user-facing services can be accessed via the links below: \n",
    "\n",
    "* ClarityNLP API <http://localhost:5000>\n",
    "* ClarityNLP Solr <http://localhost:8983>\n",
    "* ClarityNLP Luigi <http://localhost:8082>\n",
    "* Report Type Mapper Docs <http://localhost:3000/>\n",
    "* Report Type Mapper Client <http://localhost:8000>\n",
    "* Ingest Client <http://localhost:8500/>_\n",
    "* Results Client <http://localhost:8201/>\n",
    "\n",
    "* ClarityNLP Postgres <jdbc:postgresql://localhost:5433/clarity>\n",
    "* ClaritNLP Mongo <http://localhost:27017>\n",
    "* Ingest Mongo <http://localhost:27020>"
   ]
  },
  {
   "cell_type": "markdown",
   "metadata": {},
   "source": [
    "### Report-type mapping:"
   ]
  },
  {
   "cell_type": "code",
   "execution_count": null,
   "metadata": {},
   "outputs": [],
   "source": []
  },
  {
   "cell_type": "code",
   "execution_count": null,
   "metadata": {},
   "outputs": [],
   "source": []
  }
 ],
 "metadata": {
  "kernelspec": {
   "display_name": "Python 3",
   "language": "python",
   "name": "python3"
  },
  "language_info": {
   "codemirror_mode": {
    "name": "ipython",
    "version": 3
   },
   "file_extension": ".py",
   "mimetype": "text/x-python",
   "name": "python",
   "nbconvert_exporter": "python",
   "pygments_lexer": "ipython3",
   "version": "3.5.5"
  }
 },
 "nbformat": 4,
 "nbformat_minor": 2
}
